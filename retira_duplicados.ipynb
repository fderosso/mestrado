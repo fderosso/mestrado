{
 "cells": [
  {
   "cell_type": "code",
   "execution_count": 16,
   "id": "f3d4b061",
   "metadata": {},
   "outputs": [],
   "source": [
    "import pandas as pd\n",
    "\n",
    "df = pd.read_csv('atendimentos_medicos_sem_duplicados_ultimo.csv', low_memory=False, encoding= 'unicode_escape', sep=',')\n",
    "colunas_para_verificar = ['data_atendimento', 'data_nascimento', 'sexo', 'ssa_cnes']\n",
    "df_temp = df.reset_index(drop=True)\n",
    "df_sem_duplicatas = df_temp.drop_duplicates(subset=colunas_para_verificar, keep='first')\n",
    "nome_arquivo = 'atendimentos_medicos_novo.csv'\n",
    "df_sem_duplicatas.to_csv(nome_arquivo, index=False, sep=';')\n"
   ]
  },
  {
   "cell_type": "code",
   "execution_count": 19,
   "id": "ea50ecd7",
   "metadata": {},
   "outputs": [],
   "source": [
    "import pandas as pd\n",
    "\n",
    "df = pd.read_csv('atendimentos_enfermagem_sem_duplicados_ultimo.csv', low_memory=False, encoding= 'unicode_escape', sep=';')\n",
    "colunas_para_verificar = ['data_atendimento', 'data_nascimento', 'sexo', 'ssa_cnes']\n",
    "df_temp = df.reset_index(drop=True)\n",
    "df_sem_duplicatas = df_temp.drop_duplicates(subset=colunas_para_verificar, keep='first')\n",
    "nome_arquivo = 'atendimentos_enfermagem_novo.csv'\n",
    "df_sem_duplicatas.to_csv(nome_arquivo, index=False, sep=';')"
   ]
  },
  {
   "cell_type": "code",
   "execution_count": null,
   "id": "34c94159",
   "metadata": {},
   "outputs": [],
   "source": []
  }
 ],
 "metadata": {
  "kernelspec": {
   "display_name": "Python 3 (ipykernel)",
   "language": "python",
   "name": "python3"
  },
  "language_info": {
   "codemirror_mode": {
    "name": "ipython",
    "version": 3
   },
   "file_extension": ".py",
   "mimetype": "text/x-python",
   "name": "python",
   "nbconvert_exporter": "python",
   "pygments_lexer": "ipython3",
   "version": "3.8.10"
  }
 },
 "nbformat": 4,
 "nbformat_minor": 5
}
